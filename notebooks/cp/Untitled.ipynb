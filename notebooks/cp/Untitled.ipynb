{
 "cells": [
  {
   "cell_type": "code",
   "execution_count": null,
   "id": "47842b6a-e035-48c4-8db1-a7e2f659235e",
   "metadata": {},
   "outputs": [],
   "source": [
    "\n"
   ]
  },
  {
   "cell_type": "code",
   "execution_count": 18,
   "id": "d8807868-d479-41ae-85de-82fc01cfea83",
   "metadata": {},
   "outputs": [],
   "source": [
    "import os\n",
    "import pickle\n",
    "import numpy as np\n",
    "import matplotlib.pyplot as plt\n",
    "from scipy.io import loadmat\n",
    "\n",
    "# File paths\n",
    "base_folder = r'F:\\AlterG\\Control\\Data'\n",
    "normative_traces_folder = r'F:\\AlterG\\NormativeTraces'\n",
    "save_folder = r'F:\\AlterG\\IndividualKinematics'"
   ]
  },
  {
   "cell_type": "code",
   "execution_count": 19,
   "id": "cc45cfa4-de59-4d56-8abd-95c94b0f4de4",
   "metadata": {},
   "outputs": [],
   "source": [
    "# File paths\n",
    "base_folder = r'F:\\AlterG\\Control\\Data'\n",
    "normative_traces_folder = r'F:\\AlterG\\NormativeTraces'\n",
    "save_folder = r'F:\\AlterG\\IndividualKinematics'\n",
    "\n",
    "# Step 1: Load Participant Data\n",
    "def load_participant_data(participant_number):\n",
    "    participant_folder = os.path.join(base_folder, f\"{participant_number:02d}\")\n",
    "    kinematics_path = os.path.join(participant_folder, 'Kinematics', 'concatenated_strides.pkl')\n",
    "    devices_data_path = os.path.join(participant_folder, 'Gait', 'DevicesData.mat')\n",
    "    \n",
    "    if os.path.exists(kinematics_path):\n",
    "        with open(kinematics_path, 'rb') as f:\n",
    "            participant_data = pickle.load(f)\n",
    "            return participant_data\n",
    "    elif os.path.exists(devices_data_path):\n",
    "        try:\n",
    "            mat_data = loadmat(devices_data_path)\n",
    "            print(\"Successfully loaded data using `loadmat`.\")\n",
    "            return mat_data\n",
    "        except NotImplementedError:\n",
    "            print(f\"Error: The file '{devices_data_path}' may be saved in a newer HDF5-compatible format.\")\n",
    "        except Exception as e:\n",
    "            print(f\"Failed to load '{devices_data_path}': {e}\")\n",
    "            return None\n",
    "    else:\n",
    "        print(f\"No data found for Participant {participant_number}\")\n",
    "        return None\n"
   ]
  },
  {
   "cell_type": "code",
   "execution_count": 20,
   "id": "5e13ac0b-3eec-4d10-ab06-9d2c61fb97a1",
   "metadata": {},
   "outputs": [],
   "source": [
    "# Step 2: Load and Process Each Participant\n",
    "def process_participant(participant_number, normative_directory, output_directory):\n",
    "    participant_data = load_participant_data(participant_number)\n",
    "    if participant_data is None:\n",
    "        return\n",
    "\n",
    "    corrected_data = {}\n",
    "    for header, strides in participant_data.items():\n",
    "        if header == 'time':  # Skip 'time' header as it is not used for correction\n",
    "            continue\n",
    "        try:\n",
    "            normative_trace = load_saved_normative(normative_directory, header)\n",
    "        except FileNotFoundError as e:\n",
    "            print(e)\n",
    "            continue\n",
    "\n",
    "        corrected_strides = [correct_stride(stride, normative_trace) for stride in strides]\n",
    "        corrected_data[header] = corrected_strides\n",
    "\n",
    "        # Debugging: Print or plot to verify normative trace and strides\n",
    "        print(f\"Processing header: {header}\")\n",
    "        plt.figure()\n",
    "        plt.plot(normative_trace, label='Normative Trace', color='b')\n",
    "        plt.plot(strides[0], label='First Original Stride', color='r', alpha=0.5)\n",
    "        plt.legend()\n",
    "        plt.title(f\"Normative vs Original Stride for Header: {header}\")\n",
    "        plt.show()\n",
    "\n",
    "        # Visualization\n",
    "        visualize_strides(strides, corrected_strides, participant_number)\n",
    "\n",
    "    # Save corrected data\n",
    "    save_corrected_data(output_directory, participant_number, corrected_data)\n"
   ]
  },
  {
   "cell_type": "code",
   "execution_count": 21,
   "id": "58b48852-0d81-4918-aaf3-de738eafa528",
   "metadata": {},
   "outputs": [],
   "source": [
    "# Step 3: Load Normative Trace\n",
    "def load_saved_normative(normative_directory, header):\n",
    "    normative_file = os.path.join(normative_directory, f\"{header}.pkl\")\n",
    "    if os.path.exists(normative_file):\n",
    "        with open(normative_file, 'rb') as f:\n",
    "            return pickle.load(f)\n",
    "    else:\n",
    "        raise FileNotFoundError(f\"Normative trace for header {header} not found.\")\n",
    "\n",
    "\n"
   ]
  },
  {
   "cell_type": "code",
   "execution_count": 22,
   "id": "710e8d84-5003-41db-8d17-6d797d3ef387",
   "metadata": {},
   "outputs": [],
   "source": [
    "# Step 4: Correct Individual Strides\n",
    "def correct_stride(stride, normative_trace):\n",
    "    # Correlation-based flipping\n",
    "    correlation = np.corrcoef(stride, normative_trace)[0, 1]\n",
    "    flipped_correlation = np.corrcoef(-stride, normative_trace)[0, 1]\n",
    "    if flipped_correlation > correlation:\n",
    "        stride = -stride\n",
    "\n",
    "    # Offset correction (demean if necessary)\n",
    "    stride_mean = np.mean(stride)\n",
    "    normative_mean = np.mean(normative_trace)\n",
    "    if abs(stride_mean - normative_mean) > 0.1 * normative_mean:  # threshold at 10%\n",
    "        stride = stride - stride_mean + normative_mean\n",
    "\n",
    "    return stride"
   ]
  },
  {
   "cell_type": "code",
   "execution_count": 23,
   "id": "8e60a9f5-cbe2-46a9-8602-366b45ded9ae",
   "metadata": {},
   "outputs": [],
   "source": [
    "# Step 5: Visualization\n",
    "def visualize_strides(original_strides, corrected_strides, participant_id):\n",
    "    plt.figure(figsize=(12, 8))\n",
    "\n",
    "    # Original strides\n",
    "    plt.subplot(2, 1, 1)\n",
    "    for stride in original_strides:\n",
    "        plt.plot(stride, alpha=0.5)\n",
    "    plt.title(f\"Participant {participant_id} - Original Strides\")\n",
    "    plt.xlabel(\"Time Points\")\n",
    "    plt.ylabel(\"Stride Value\")\n",
    "\n",
    "    # Corrected strides\n",
    "    plt.subplot(2, 1, 2)\n",
    "    for stride in corrected_strides:\n",
    "        plt.plot(stride, alpha=0.5)\n",
    "    plt.title(f\"Participant {participant_id} - Corrected Strides\")\n",
    "    plt.xlabel(\"Time Points\")\n",
    "    plt.ylabel(\"Stride Value\")\n",
    "\n",
    "    plt.tight_layout()\n",
    "    plt.show()"
   ]
  },
  {
   "cell_type": "code",
   "execution_count": 24,
   "id": "79841ad7-1a0e-47a9-8ec5-eee0f6f36ba3",
   "metadata": {},
   "outputs": [],
   "source": [
    "# Step 6: Save Corrected Data\n",
    "def save_corrected_data(output_directory, participant_id, corrected_data):\n",
    "    output_file = os.path.join(output_directory, f\"{participant_id:02d}_corrected.pkl\")\n",
    "    with open(output_file, 'wb') as f:\n",
    "        pickle.dump(corrected_data, f)\n",
    "\n",
    "\n"
   ]
  },
  {
   "cell_type": "code",
   "execution_count": 25,
   "id": "890b9846-b643-4390-b088-b01d53021e78",
   "metadata": {},
   "outputs": [
    {
     "name": "stdout",
     "output_type": "stream",
     "text": [
      "Normative trace for header pelvis_tilt not found.\n",
      "Normative trace for header pelvis_list not found.\n",
      "Normative trace for header pelvis_rotation not found.\n",
      "Normative trace for header pelvis_tx not found.\n",
      "Normative trace for header pelvis_ty not found.\n",
      "Normative trace for header pelvis_tz not found.\n",
      "Normative trace for header lumbar_extension not found.\n",
      "Normative trace for header lumbar_bending not found.\n",
      "Normative trace for header lumbar_rotation not found.\n",
      "Normative trace for header hip_flexion_r not found.\n",
      "Normative trace for header hip_adduction_r not found.\n",
      "Normative trace for header hip_rotation_r not found.\n",
      "Normative trace for header knee_angle_r not found.\n",
      "Normative trace for header ankle_angle_r not found.\n",
      "Normative trace for header subtalar_angle_r not found.\n",
      "Normative trace for header mtp_angle_r not found.\n",
      "Normative trace for header hip_flexion_l not found.\n",
      "Normative trace for header hip_adduction_l not found.\n",
      "Normative trace for header hip_rotation_l not found.\n",
      "Normative trace for header knee_angle_l not found.\n",
      "Normative trace for header ankle_angle_l not found.\n",
      "Normative trace for header subtalar_angle_l not found.\n",
      "Normative trace for header mtp_angle_l not found.\n"
     ]
    },
    {
     "ename": "FileNotFoundError",
     "evalue": "[Errno 2] No such file or directory: 'F:\\\\AlterG\\\\IndividualKinematics\\\\01_corrected.pkl'",
     "output_type": "error",
     "traceback": [
      "\u001b[1;31m---------------------------------------------------------------------------\u001b[0m",
      "\u001b[1;31mFileNotFoundError\u001b[0m                         Traceback (most recent call last)",
      "Cell \u001b[1;32mIn[25], line 11\u001b[0m\n\u001b[0;32m      8\u001b[0m normative_directory \u001b[38;5;241m=\u001b[39m normative_traces_folder\n\u001b[0;32m      9\u001b[0m output_directory \u001b[38;5;241m=\u001b[39m save_folder\n\u001b[1;32m---> 11\u001b[0m \u001b[43mprocess_stride_data\u001b[49m\u001b[43m(\u001b[49m\u001b[43mparticipant_numbers\u001b[49m\u001b[43m,\u001b[49m\u001b[43m \u001b[49m\u001b[43mnormative_directory\u001b[49m\u001b[43m,\u001b[49m\u001b[43m \u001b[49m\u001b[43moutput_directory\u001b[49m\u001b[43m)\u001b[49m\n",
      "Cell \u001b[1;32mIn[25], line 4\u001b[0m, in \u001b[0;36mprocess_stride_data\u001b[1;34m(participant_numbers, normative_directory, output_directory)\u001b[0m\n\u001b[0;32m      2\u001b[0m \u001b[38;5;28;01mdef\u001b[39;00m \u001b[38;5;21mprocess_stride_data\u001b[39m(participant_numbers, normative_directory, output_directory):\n\u001b[0;32m      3\u001b[0m     \u001b[38;5;28;01mfor\u001b[39;00m participant_number \u001b[38;5;129;01min\u001b[39;00m participant_numbers:\n\u001b[1;32m----> 4\u001b[0m         \u001b[43mprocess_participant\u001b[49m\u001b[43m(\u001b[49m\u001b[43mparticipant_number\u001b[49m\u001b[43m,\u001b[49m\u001b[43m \u001b[49m\u001b[43mnormative_directory\u001b[49m\u001b[43m,\u001b[49m\u001b[43m \u001b[49m\u001b[43moutput_directory\u001b[49m\u001b[43m)\u001b[49m\n",
      "Cell \u001b[1;32mIn[20], line 33\u001b[0m, in \u001b[0;36mprocess_participant\u001b[1;34m(participant_number, normative_directory, output_directory)\u001b[0m\n\u001b[0;32m     30\u001b[0m     visualize_strides(strides, corrected_strides, participant_number)\n\u001b[0;32m     32\u001b[0m \u001b[38;5;66;03m# Save corrected data\u001b[39;00m\n\u001b[1;32m---> 33\u001b[0m \u001b[43msave_corrected_data\u001b[49m\u001b[43m(\u001b[49m\u001b[43moutput_directory\u001b[49m\u001b[43m,\u001b[49m\u001b[43m \u001b[49m\u001b[43mparticipant_number\u001b[49m\u001b[43m,\u001b[49m\u001b[43m \u001b[49m\u001b[43mcorrected_data\u001b[49m\u001b[43m)\u001b[49m\n",
      "Cell \u001b[1;32mIn[24], line 4\u001b[0m, in \u001b[0;36msave_corrected_data\u001b[1;34m(output_directory, participant_id, corrected_data)\u001b[0m\n\u001b[0;32m      2\u001b[0m \u001b[38;5;28;01mdef\u001b[39;00m \u001b[38;5;21msave_corrected_data\u001b[39m(output_directory, participant_id, corrected_data):\n\u001b[0;32m      3\u001b[0m     output_file \u001b[38;5;241m=\u001b[39m os\u001b[38;5;241m.\u001b[39mpath\u001b[38;5;241m.\u001b[39mjoin(output_directory, \u001b[38;5;124mf\u001b[39m\u001b[38;5;124m\"\u001b[39m\u001b[38;5;132;01m{\u001b[39;00mparticipant_id\u001b[38;5;132;01m:\u001b[39;00m\u001b[38;5;124m02d\u001b[39m\u001b[38;5;132;01m}\u001b[39;00m\u001b[38;5;124m_corrected.pkl\u001b[39m\u001b[38;5;124m\"\u001b[39m)\n\u001b[1;32m----> 4\u001b[0m     \u001b[38;5;28;01mwith\u001b[39;00m \u001b[38;5;28;43mopen\u001b[39;49m\u001b[43m(\u001b[49m\u001b[43moutput_file\u001b[49m\u001b[43m,\u001b[49m\u001b[43m \u001b[49m\u001b[38;5;124;43m'\u001b[39;49m\u001b[38;5;124;43mwb\u001b[39;49m\u001b[38;5;124;43m'\u001b[39;49m\u001b[43m)\u001b[49m \u001b[38;5;28;01mas\u001b[39;00m f:\n\u001b[0;32m      5\u001b[0m         pickle\u001b[38;5;241m.\u001b[39mdump(corrected_data, f)\n",
      "File \u001b[1;32m~\\AppData\\Local\\Programs\\Python\\Python39\\lib\\site-packages\\IPython\\core\\interactiveshell.py:286\u001b[0m, in \u001b[0;36m_modified_open\u001b[1;34m(file, *args, **kwargs)\u001b[0m\n\u001b[0;32m    279\u001b[0m \u001b[38;5;28;01mif\u001b[39;00m file \u001b[38;5;129;01min\u001b[39;00m {\u001b[38;5;241m0\u001b[39m, \u001b[38;5;241m1\u001b[39m, \u001b[38;5;241m2\u001b[39m}:\n\u001b[0;32m    280\u001b[0m     \u001b[38;5;28;01mraise\u001b[39;00m \u001b[38;5;167;01mValueError\u001b[39;00m(\n\u001b[0;32m    281\u001b[0m         \u001b[38;5;124mf\u001b[39m\u001b[38;5;124m\"\u001b[39m\u001b[38;5;124mIPython won\u001b[39m\u001b[38;5;124m'\u001b[39m\u001b[38;5;124mt let you open fd=\u001b[39m\u001b[38;5;132;01m{\u001b[39;00mfile\u001b[38;5;132;01m}\u001b[39;00m\u001b[38;5;124m by default \u001b[39m\u001b[38;5;124m\"\u001b[39m\n\u001b[0;32m    282\u001b[0m         \u001b[38;5;124m\"\u001b[39m\u001b[38;5;124mas it is likely to crash IPython. If you know what you are doing, \u001b[39m\u001b[38;5;124m\"\u001b[39m\n\u001b[0;32m    283\u001b[0m         \u001b[38;5;124m\"\u001b[39m\u001b[38;5;124myou can use builtins\u001b[39m\u001b[38;5;124m'\u001b[39m\u001b[38;5;124m open.\u001b[39m\u001b[38;5;124m\"\u001b[39m\n\u001b[0;32m    284\u001b[0m     )\n\u001b[1;32m--> 286\u001b[0m \u001b[38;5;28;01mreturn\u001b[39;00m io_open(file, \u001b[38;5;241m*\u001b[39margs, \u001b[38;5;241m*\u001b[39m\u001b[38;5;241m*\u001b[39mkwargs)\n",
      "\u001b[1;31mFileNotFoundError\u001b[0m: [Errno 2] No such file or directory: 'F:\\\\AlterG\\\\IndividualKinematics\\\\01_corrected.pkl'"
     ]
    }
   ],
   "source": [
    "# Main Processing Pipeline\n",
    "def process_stride_data(participant_numbers, normative_directory, output_directory):\n",
    "    for participant_number in participant_numbers:\n",
    "        process_participant(participant_number, normative_directory, output_directory)\n",
    "\n",
    "# Notebook Call for Testing\n",
    "participant_numbers = [1]  # Testing with the first participant only\n",
    "normative_directory = normative_traces_folder\n",
    "output_directory = save_folder\n",
    "\n",
    "process_stride_data(participant_numbers, normative_directory, output_directory)"
   ]
  },
  {
   "cell_type": "code",
   "execution_count": null,
   "id": "685bcbd9-f52d-4d9b-8840-58122e7de57e",
   "metadata": {},
   "outputs": [],
   "source": []
  }
 ],
 "metadata": {
  "kernelspec": {
   "display_name": "Python 3 (ipykernel)",
   "language": "python",
   "name": "python3"
  },
  "language_info": {
   "codemirror_mode": {
    "name": "ipython",
    "version": 3
   },
   "file_extension": ".py",
   "mimetype": "text/x-python",
   "name": "python",
   "nbconvert_exporter": "python",
   "pygments_lexer": "ipython3",
   "version": "3.9.0"
  }
 },
 "nbformat": 4,
 "nbformat_minor": 5
}
